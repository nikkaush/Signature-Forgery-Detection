{
  "nbformat": 4,
  "nbformat_minor": 0,
  "metadata": {
    "colab": {
      "name": "Milelstone2_Group2.ipynb",
      "provenance": [],
      "collapsed_sections": [],
      "toc_visible": true
    },
    "kernelspec": {
      "name": "python3",
      "display_name": "Python 3"
    },
    "accelerator": "GPU"
  },
  "cells": [
    {
      "cell_type": "markdown",
      "metadata": {
        "id": "J6ejGHtjZ3Yi",
        "colab_type": "text"
      },
      "source": [
        "### Imports"
      ]
    },
    {
      "cell_type": "code",
      "metadata": {
        "id": "s1xWr0E5mySV",
        "colab_type": "code",
        "colab": {}
      },
      "source": [
        "# Mount Google drive and unzip \"sign_data.zip\" file\n",
        "from google.colab import drive\n",
        "drive.mount('/content/drive')\n",
        "!unzip drive/My\\ Drive/sign_data.zip"
      ],
      "execution_count": null,
      "outputs": []
    },
    {
      "cell_type": "code",
      "metadata": {
        "id": "lX0nPfRxE0Ie",
        "colab_type": "code",
        "colab": {}
      },
      "source": [
        "import math\n",
        "import statistics\n",
        "import os\n",
        "import copy\n",
        "import time\n",
        "import torch\n",
        "import torchvision\n",
        "import numpy as np\n",
        "import pandas as pd \n",
        "import PIL.ImageOps \n",
        "import torch.nn as nn\n",
        "from PIL import Image\n",
        "import matplotlib.pyplot as plt\n",
        "from sklearn import preprocessing\n",
        "from scipy.stats import skew\n",
        "from sklearn.cluster import KMeans\n",
        "from sklearn import metrics"
      ],
      "execution_count": null,
      "outputs": []
    },
    {
      "cell_type": "markdown",
      "metadata": {
        "id": "8ed4svYuJ2Hr",
        "colab_type": "text"
      },
      "source": [
        "### Data Preprrocessing"
      ]
    },
    {
      "cell_type": "code",
      "metadata": {
        "id": "s2XN4e268kXw",
        "colab_type": "code",
        "colab": {}
      },
      "source": [
        "# Create a dictionary of person_id and corresponding signature list\n",
        "sig_dict = {}\n",
        "train_directory = '/content/sign_data/train/'\n",
        "for folder in os.listdir(train_directory):\n",
        "  img_set = set()\n",
        "  for img in os.listdir(train_directory+folder):\n",
        "    img_set.add(folder+'/'+img)\n",
        "  sig_dict[folder] = pd.DataFrame(list(img_set))"
      ],
      "execution_count": null,
      "outputs": []
    },
    {
      "cell_type": "code",
      "metadata": {
        "id": "ApHNciP2_8MG",
        "colab_type": "code",
        "colab": {}
      },
      "source": [
        "# This function creates a 75:25 split for genuine and forged images of a person\n",
        "# and return data frames of the images.\n",
        "def get_sig_dfs(person):\n",
        "  df_genuine = pd.DataFrame(sig_dict[person])\n",
        "  genuine_samples = df_genuine.sample(frac=0.25, random_state=0)\n",
        "  df_genuine.drop(genuine_samples.index, inplace=True)\n",
        "  df_genuine.reset_index(drop=True, inplace=True)\n",
        "\n",
        "  df_forged = pd.DataFrame(sig_dict[person+'_forg'])\n",
        "  forged_samples = df_forged.sample(frac=0.25, random_state=0)\n",
        "  df_forged.drop(forged_samples.index, inplace=True)\n",
        "  df_forged.reset_index(drop=True, inplace=True)\n",
        "\n",
        "  df_test = pd.concat([genuine_samples, forged_samples]).reset_index(drop=True)\n",
        "  return df_genuine, df_forged, df_test"
      ],
      "execution_count": null,
      "outputs": []
    },
    {
      "cell_type": "code",
      "metadata": {
        "id": "o_Q-zmPcNsnv",
        "colab_type": "code",
        "colab": {}
      },
      "source": [
        "# Transform image by converting from RGB to Binary array.\n",
        "def transform_image(f):\n",
        "    img= Image.open(f)  \n",
        "    img = img.convert('L')\n",
        "    img = np.array(img)\n",
        "    bin_arr = np.where(img < 220, 1, 0)\n",
        "    return bin_arr"
      ],
      "execution_count": null,
      "outputs": []
    },
    {
      "cell_type": "markdown",
      "metadata": {
        "id": "hg50VuTXOkAQ",
        "colab_type": "text"
      },
      "source": [
        "### Training and Evauation"
      ]
    },
    {
      "cell_type": "code",
      "metadata": {
        "id": "4gPUcR1GHU3x",
        "colab_type": "code",
        "colab": {}
      },
      "source": [
        "# Extract coordinates corresponding to the signature part in the image.\n",
        "def get_sig_cord(img_arr):\n",
        "  cord_list = []\n",
        "  for i in range (0, len(img_arr)):\n",
        "    for j in range (0, len(img_arr[i])):\n",
        "      if img_arr[i][j] == 1:\n",
        "        cord_list.append([i, j])\n",
        "  return cord_list"
      ],
      "execution_count": null,
      "outputs": []
    },
    {
      "cell_type": "code",
      "metadata": {
        "id": "UGBsctfHHxR9",
        "colab_type": "code",
        "colab": {}
      },
      "source": [
        "# Compute euclidian distance between (x1, y1) and (x2, y2)\n",
        "def euclidian_distance(x1_cor, y1_cor, x2_cor, y2_cor):\n",
        "  squared = math.pow(abs(x1_cor - x2_cor), 2) + math.pow(abs(y1_cor - y2_cor), 2)\n",
        "  root = math.sqrt(squared)\n",
        "  return root"
      ],
      "execution_count": null,
      "outputs": []
    },
    {
      "cell_type": "code",
      "metadata": {
        "id": "RYCfEdpNP-2q",
        "colab_type": "code",
        "colab": {}
      },
      "source": [
        "# Perform k-means clustering on the pixel list with desired cluster size and returns\n",
        "# a DataFrame consisting of the corrdinates and their corresponding cluster assignment.\n",
        "def generate_df(px_list, num_clusters):\n",
        "  df_list = []\n",
        "  for i in range (0, len(px_list)):\n",
        "    cor_list = get_sig_cord(px_list[i])\n",
        "    model = KMeans(n_clusters=num_clusters, random_state=0).fit(cor_list)\n",
        "    df = pd.DataFrame({\n",
        "    'cluster': model.labels_,\n",
        "    'coordinates':cor_list\n",
        "    })\n",
        "    df_list.append(df)\n",
        "  return df_list"
      ],
      "execution_count": null,
      "outputs": []
    },
    {
      "cell_type": "code",
      "metadata": {
        "id": "uctK9B7IHXIZ",
        "colab_type": "code",
        "colab": {}
      },
      "source": [
        "# Computes centroids of the clusters formed and returns their coordinates.\n",
        "def get_centroids_coordinates(df, num_cluster):\n",
        "  centroid_dict = {}\n",
        "\n",
        "  for c in range (0, num_cluster):\n",
        "    x_sum = 0\n",
        "    y_sum = 0\n",
        "    t_df = df[df['cluster'] == c]['coordinates']\n",
        "    for row in t_df.iteritems():\n",
        "      x_sum += row[1][0]\n",
        "      y_sum += row[1][1]\n",
        "    x_sum /= len(t_df)\n",
        "    y_sum /= len(t_df)\n",
        "\n",
        "    centroid_dict[c] = [x_sum, y_sum]\n",
        "\n",
        "  for c in centroid_dict.keys():\n",
        "    euc_sum = 0\n",
        "    centroid = centroid_dict[c]\n",
        "    t_df = df[df['cluster'] == c]['coordinates']\n",
        "    euc_dist = 0\n",
        "    for row in t_df.iteritems():\n",
        "      euc_dist += euclidian_distance(centroid[0], centroid[1], row[1][0], row[1][1])\n",
        "    euc_dist /= len(t_df)\n",
        "  return centroid_dict"
      ],
      "execution_count": null,
      "outputs": []
    },
    {
      "cell_type": "code",
      "metadata": {
        "id": "1uxqNGZCZZg8",
        "colab_type": "code",
        "colab": {}
      },
      "source": [
        "# Extracts centroids coordinate into a list and sort them by x values.\n",
        "def convert_list_util(centroid_dict_list):\n",
        "  main_list = []\n",
        "  for l1 in centroid_dict_list:\n",
        "    sub_list = []\n",
        "    for l2 in list(l1.values()):\n",
        "      sub_list.append(l2)\n",
        "    main_list.append(Sort(sub_list))\n",
        "  return main_list"
      ],
      "execution_count": null,
      "outputs": []
    },
    {
      "cell_type": "code",
      "metadata": {
        "id": "oCMez-lRaT5P",
        "colab_type": "code",
        "colab": {}
      },
      "source": [
        "# Sort utility function.\n",
        "def Sort(sub_li):\n",
        "    sub_li.sort(key = lambda x: x[0]) \n",
        "    return sub_li"
      ],
      "execution_count": null,
      "outputs": []
    },
    {
      "cell_type": "code",
      "metadata": {
        "id": "1OmptDfnLlAH",
        "colab_type": "code",
        "colab": {}
      },
      "source": [
        "def get_sorted_centroids(person_id, num_clusters): \n",
        "  # Fetch dataframes for Genuine, Forged and Test images of a particular person.\n",
        "  df_o, df_f, df_test = get_sig_dfs(person_id)\n",
        "  px_list_o = []\n",
        "  px_list_f = []\n",
        "  px_list_test = []\n",
        "\n",
        "  # Apply transformation on the images.\n",
        "  for row in df_o.iterrows():\n",
        "    px_list_o.append(transform_image(train_directory+row[1][0]))\n",
        "\n",
        "  for row in df_f.iterrows():\n",
        "    px_list_f.append(transform_image(train_directory+row[1][0]))\n",
        "\n",
        "  for row in df_test.iterrows():\n",
        "    px_list_test.append(transform_image(train_directory+row[1][0]))\n",
        "\n",
        "  # Performing k-means clustering withing images from Genuine, Forged and Test Dataframes\n",
        "  df_list_o = generate_df(px_list_o, num_clusters)\n",
        "  df_list_f = generate_df(px_list_f, num_clusters)\n",
        "  df_list_test = generate_df(px_list_test, num_clusters)\n",
        "\n",
        "  centroid_dict_list_o = []\n",
        "  centroid_dict_list_f = []\n",
        "  centroid_dict_list_test = []\n",
        "\n",
        "  # Get centroids of the clusters formed for images in Genuine, Forged and Test dataframes.\n",
        "  for df in df_list_o:\n",
        "    centroid_dict_list_o.append(get_centroids_coordinates(df, num_clusters))\n",
        "  for df in df_list_f:\n",
        "    centroid_dict_list_f.append(get_centroids_coordinates(df, num_clusters))\n",
        "  for df in df_list_test:\n",
        "    centroid_dict_list_test.append(get_centroids_coordinates(df, num_clusters))\n",
        "  centroids_list_genuine = convert_list_util(centroid_dict_list_o)\n",
        "  centroids_list_forged = convert_list_util(centroid_dict_list_f)\n",
        "  centroid_list_test = convert_list_util(centroid_dict_list_test)\n",
        "\n",
        "  return centroids_list_genuine, centroids_list_forged, centroid_list_test, df_test"
      ],
      "execution_count": null,
      "outputs": []
    },
    {
      "cell_type": "code",
      "metadata": {
        "id": "XuVifggQ-1zz",
        "colab_type": "code",
        "colab": {}
      },
      "source": [
        "# Computes average coordinate for cluster k in all genuine images.\n",
        "def get_average_centroid_coordinates(centroid_sorted_list_o):\n",
        "  average_coordinates = dict()\n",
        "  for centroid in range(len(centroid_sorted_list_o[0])):\n",
        "    average_coordinates[centroid] = [0, 0] \n",
        "    for img in range(len(centroid_sorted_list_o)):\n",
        "      average_coordinates[centroid][0] += centroid_sorted_list_o[img][centroid][0]\n",
        "      average_coordinates[centroid][1] += centroid_sorted_list_o[img][centroid][1]\n",
        "    average_coordinates[centroid][0] /= len(centroid_sorted_list_o)\n",
        "    average_coordinates[centroid][1] /= len(centroid_sorted_list_o)\n",
        "\n",
        "  return average_coordinates "
      ],
      "execution_count": null,
      "outputs": []
    },
    {
      "cell_type": "code",
      "metadata": {
        "id": "agRXlpCdInwG",
        "colab_type": "code",
        "colab": {}
      },
      "source": [
        "# Computes total average squared distance of centroid of all images from average centroid coordinates.\n",
        "def total_distance_from_centroids(average_coordinates, centroid_sorted_list):\n",
        "  total_cluster_distance = [0 for i in range(len(centroid_sorted_list))]\n",
        "  for img in range(len(centroid_sorted_list)):\n",
        "    for centroid in range(len(centroid_sorted_list[0])):\n",
        "      avg_x = centroid_sorted_list[img][centroid][0]\n",
        "      x = average_coordinates[centroid][0]\n",
        "      avg_y = centroid_sorted_list[img][centroid][1]\n",
        "      y = average_coordinates[centroid][1]\n",
        "      value = (euclidian_distance(avg_x,avg_y, x, y))\n",
        "      total_cluster_distance[img] += value**2\n",
        "    total_cluster_distance[img] = total_cluster_distance[img]/len(centroid_sorted_list[0])\n",
        "  total_cluster_distance = math.sqrt(sum(total_cluster_distance)/len(total_cluster_distance))\n",
        "  return total_cluster_distance"
      ],
      "execution_count": null,
      "outputs": []
    },
    {
      "cell_type": "code",
      "metadata": {
        "id": "pcjPeUPZOnDg",
        "colab_type": "code",
        "colab": {}
      },
      "source": [
        "# Computes total average squared distance of centroid of a images from average centroid coordinates.\n",
        "def total_image_distance_from_centroids(average_coordinates, centroid_sorted_list):\n",
        "  total_cluster_distance = 0\n",
        "  for centroid in range(len(centroid_sorted_list)):\n",
        "      avg_x = centroid_sorted_list[centroid][0]\n",
        "      x = average_coordinates[centroid][0]\n",
        "      avg_y = centroid_sorted_list[centroid][1]\n",
        "      y = average_coordinates[centroid][1]\n",
        "      value = euclidian_distance(avg_x,avg_y, x, y)\n",
        "      total_cluster_distance += value**2\n",
        "  total_cluster_distance = math.sqrt(total_cluster_distance/len(centroid_sorted_list))\n",
        "  return total_cluster_distance"
      ],
      "execution_count": null,
      "outputs": []
    },
    {
      "cell_type": "code",
      "metadata": {
        "id": "ppKqCxr2wX5L",
        "colab_type": "code",
        "colab": {}
      },
      "source": [
        "# Predict the label by comparing mean squared error of test with that of genuine and forged.\n",
        "def predict_label(centroid_list, average_coordinates, mse_genuine, mse_forged):\n",
        "  mse_test = total_image_distance_from_centroids(average_coordinates, centroid_list)\n",
        "  if mse_test < mse_genuine + 0.15 * (mse_forged - mse_genuine):\n",
        "    return 0\n",
        "  else:\n",
        "    return 1"
      ],
      "execution_count": null,
      "outputs": []
    },
    {
      "cell_type": "code",
      "metadata": {
        "id": "wZrWtopyFwRd",
        "colab_type": "code",
        "colab": {}
      },
      "source": [
        "def predict_forgery(num_cluster, person_ids):\n",
        "  results = np.array([0, 0, 0, 0])\n",
        "  for person_id in person_ids:\n",
        "    prediction_labels = []\n",
        "    actual_labels = []\n",
        "    centroids_list_genuine, centroids_list_forged, centroid_list_test, df_test = get_sorted_centroids(person_id, num_cluster)\n",
        "    average_coordinates  = get_average_centroid_coordinates(centroids_list_genuine)\n",
        "    mse_genuine = total_distance_from_centroids(average_coordinates, centroids_list_genuine)\n",
        "    mse_forged = total_distance_from_centroids(average_coordinates, centroids_list_forged)\n",
        "    for centroid_list in centroid_list_test:\n",
        "      label = predict_label(centroid_list, average_coordinates, mse_genuine, mse_forged)\n",
        "      prediction_labels.append(label)\n",
        "    for row in df_test.iterrows():\n",
        "      if '_forg' in row[1][0]:\n",
        "        actual_labels.append(1)\n",
        "      else:\n",
        "        actual_labels.append(0)\n",
        "    \n",
        "    true_neg, false_pos, false_neg, true_pos = metrics.confusion_matrix(prediction_labels, actual_labels).ravel()\n",
        "    results = np.add(results, [true_neg, false_pos, false_neg, true_pos])\n",
        "\n",
        "  total_true_neg, total_false_pos, total_false_neg, total_true_pos = results\n",
        "  accuracy = (total_true_neg + total_true_pos) / results.sum()\n",
        "  return accuracy, total_true_neg, total_false_pos, total_false_neg, total_true_pos"
      ],
      "execution_count": null,
      "outputs": []
    },
    {
      "cell_type": "code",
      "metadata": {
        "id": "pk3D3GEO3zjN",
        "colab_type": "code",
        "colab": {}
      },
      "source": [
        "person_dirs = os.listdir(train_directory)\n",
        "person_ids = list(filter(lambda dirname: '_forg' not in dirname, person_dirs))"
      ],
      "execution_count": null,
      "outputs": []
    },
    {
      "cell_type": "code",
      "metadata": {
        "id": "RhLgf1sUmUt3",
        "colab_type": "code",
        "colab": {}
      },
      "source": [
        "def plot_cluster_accuracy_relation(person_ids):\n",
        "  accuracy_by_num_clusters = {}\n",
        "  results = np.array([0, 0, 0, 0])\n",
        "  for num_clusters in range(2, 15):\n",
        "    accuracy, true_neg, false_pos, false_neg, true_pos = predict_forgery(num_clusters, person_ids)\n",
        "    results = np.add(results, [true_neg, false_pos, false_neg, true_pos])\n",
        "    accuracy_by_num_clusters[num_clusters] = accuracy\n",
        "\n",
        "  y_values = list(accuracy_by_num_clusters.values())\n",
        "  plt.plot(list(accuracy_by_num_clusters.keys()), y_values)\n",
        "  best_num_clusters = max(accuracy_by_num_clusters.items(), key=lambda x: x[1])[0]\n",
        "  plt.axvline(best_num_clusters, color='#ff0000', linestyle='dashed', linewidth=2)\n",
        "  min_y = min(y_values)\n",
        "  max_y = max(y_values)\n",
        "  text_y = 0.25 * (max_y - min_y) + min_y\n",
        "  plt.text(best_num_clusters + 0.5, text_y, f'Optimum no. of clusters={best_num_clusters}', rotation=90)\n",
        "  plt.xticks(range(2, 15))\n",
        "  plt.title('No. of clusters v/s accuracy')\n",
        "  plt.xlabel('No. of clusters')\n",
        "  plt.ylabel('Accuracy')\n",
        "  plt.show()\n",
        "  return results"
      ],
      "execution_count": null,
      "outputs": []
    },
    {
      "cell_type": "code",
      "metadata": {
        "id": "ACEgi1-GmbcV",
        "colab_type": "code",
        "colab": {
          "base_uri": "https://localhost:8080/",
          "height": 379
        },
        "outputId": "62af4800-f7b2-4f35-af98-1f7a1ebb207f"
      },
      "source": [
        "start_time = time.time()\n",
        "true_neg, false_pos, false_neg, true_pos = plot_cluster_accuracy_relation(person_ids[:1])\n",
        "end_time = time.time()\n",
        "print(\"Time taken = \", end_time - start_time)\n",
        "print('True negative:', true_neg)\n",
        "print('False positive:', false_pos)\n",
        "print('False negative:', false_neg)\n",
        "print('True positive:', true_pos)"
      ],
      "execution_count": null,
      "outputs": [
        {
          "output_type": "display_data",
          "data": {
            "image/png": "[encoded data removed]",
            "text/plain": [
              "<Figure size 432x288 with 1 Axes>"
            ]
          },
          "metadata": {
            "tags": [],
            "needs_background": "light"
          }
        },
        {
          "output_type": "stream",
          "text": [
            "Time taken =  171.42705750465393\n",
            "True negative: 22\n",
            "False positive: 5\n",
            "False negative: 17\n",
            "True positive: 47\n"
          ],
          "name": "stdout"
        }
      ]
    }
  ]
}